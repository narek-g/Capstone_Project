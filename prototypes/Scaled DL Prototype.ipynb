{
 "cells": [
  {
   "cell_type": "markdown",
   "metadata": {},
   "source": [
    "### Summary / Premise \n",
    "<P>The original U2-Net prototype is already developed for scale. In this notebook, I'll explore different methodologies for improvign computational efficiency and memory usage. We will test whether U2-Net already has an \"optimal\" model architecture. "
   ]
  },
  {
   "cell_type": "markdown",
   "metadata": {},
   "source": [
    "Original paper describing U2-Net: http://arxiv.org/abs/2005.09007 "
   ]
  },
  {
   "cell_type": "markdown",
   "metadata": {},
   "source": [
    "### Image Properties"
   ]
  },
  {
   "cell_type": "markdown",
   "metadata": {},
   "source": [
    "<P> While an adaptive model may be developed to account for various input image sizes (we want the same input size to classification layer), preprocessing the input image allows us to control the data dimentionality and thus both memory usage and computation time. \n",
    "<P> Furthermore, we'll explore whether training gray scale images produces the same leanring as color (RGB) images. "
   ]
  },
  {
   "cell_type": "markdown",
   "metadata": {},
   "source": [
    "### Convolution"
   ]
  },
  {
   "cell_type": "markdown",
   "metadata": {},
   "source": [
    "<P> The convolution is a mathematical operation between the input and kernel, producing a feature map. \n",
    "    \n",
    "<P> The convolution used in CNN allows us imrove the learning process by utilizing different methodologies: Space Interactions, Parameter Sharing, and Equivariant Representation. \n",
    "    \n",
    "<P> Traditional neural net layers use matrix interactions descriing the interaction between each input unit and output unit - this is very costly. <b> Space interactions</b> occur when the kernel is smaller than the input. This allows for better memory requirements and statistical efficiency. The specifics of the kernel will depend greatly on the application, or problem to be solved, and require trial and error experimentation. \n",
    " \n",
    "<P> <b> Parameter sharing </b> allow for using the same parametsers for more than one function in a model. This allows for learning one set of parameters for every location, instead of a unique one - saving in memory storage requirements. Runtime in forward propagation would still be the same as the number of parameters still dictates the Order. \n",
    "    \n",
    "<P> Lastly, <b> equivariant representation </b> occurs due to parameter sharing. If a function is equivariant, it measns any changes to the input will result in the same changes to the output. This means the convolution may produce a timeline showing when different features appear in the input. Although not clearly necessary for working with images (where there is no time change), it may be useful if observing a video or series of images one after another. \n",
    "    \n",
    "<P> For out putposes, we will explore <b> space interactions</b>. "
   ]
  },
  {
   "cell_type": "markdown",
   "metadata": {},
   "source": [
    "### Pooling"
   ]
  },
  {
   "cell_type": "markdown",
   "metadata": {},
   "source": [
    "<P> Pooling is an operation which replaces the output of the net at a certain location with a summary statistic of the nearby outputs. Common examples are max pooing, averaging, or weighted averging. \n",
    "<P> In addition, pooling helps make representation approximately invariant to small translations of the input. This is a key feature as it may allow for more robustness! \n",
    "<P> Reserach into pooling suggests it's ideal when the model should care more if a feature is present rather than where it exactly is (ex. are there two eyes might be more important than where the eyes are if observing a face). "
   ]
  },
  {
   "cell_type": "code",
   "execution_count": null,
   "metadata": {},
   "outputs": [],
   "source": []
  },
  {
   "cell_type": "code",
   "execution_count": null,
   "metadata": {},
   "outputs": [],
   "source": []
  },
  {
   "cell_type": "code",
   "execution_count": null,
   "metadata": {},
   "outputs": [],
   "source": []
  }
 ],
 "metadata": {
  "kernelspec": {
   "display_name": "pytorch-nightly",
   "language": "python",
   "name": "pytorch-nightly"
  },
  "language_info": {
   "codemirror_mode": {
    "name": "ipython",
    "version": 3
   },
   "file_extension": ".py",
   "mimetype": "text/x-python",
   "name": "python",
   "nbconvert_exporter": "python",
   "pygments_lexer": "ipython3",
   "version": "3.8.12"
  }
 },
 "nbformat": 4,
 "nbformat_minor": 2
}
