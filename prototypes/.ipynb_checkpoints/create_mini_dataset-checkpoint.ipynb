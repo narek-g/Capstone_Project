{
 "cells": [
  {
   "cell_type": "code",
   "execution_count": 1,
   "id": "189f8604",
   "metadata": {},
   "outputs": [],
   "source": [
    "import os\n",
    "import pandas as pd\n",
    "import pickle\n",
    "import sys"
   ]
  },
  {
   "cell_type": "code",
   "execution_count": 2,
   "id": "9d977475",
   "metadata": {},
   "outputs": [],
   "source": [
    "sys.path.insert(0, '/Users/narekgeghamyan/Classes/MLE_bootcamp/Capstone_Project')\n",
    "from processData import ProcessData"
   ]
  },
  {
   "cell_type": "markdown",
   "id": "2fec7c27",
   "metadata": {},
   "source": [
    "### Create datasets"
   ]
  },
  {
   "cell_type": "code",
   "execution_count": 8,
   "id": "910e417b",
   "metadata": {},
   "outputs": [],
   "source": [
    "# image properties \n",
    "HEIGHT = 512\n",
    "WIDTH  = 512"
   ]
  },
  {
   "cell_type": "code",
   "execution_count": 3,
   "id": "6a7c2489",
   "metadata": {},
   "outputs": [],
   "source": [
    "# Changing the CWD\n",
    "os.chdir('/Users/narekgeghamyan/local_data/capstone_data/imaterialist-fashion-2019-FGVC6/train/')\n",
    "image_dir = '/Users/narekgeghamyan/local_data/capstone_data/imaterialist-fashion-2019-FGVC6/train/'\n",
    "data_list = os.listdir('/Users/narekgeghamyan/local_data/capstone_data/imaterialist-fashion-2019-FGVC6/train/')"
   ]
  },
  {
   "cell_type": "code",
   "execution_count": 4,
   "id": "88276585",
   "metadata": {},
   "outputs": [
    {
     "name": "stdout",
     "output_type": "stream",
     "text": [
      "<class 'pandas.core.frame.DataFrame'>\n",
      "RangeIndex: 331213 entries, 0 to 331212\n",
      "Data columns (total 5 columns):\n",
      " #   Column         Non-Null Count   Dtype \n",
      "---  ------         --------------   ----- \n",
      " 0   ImageId        331213 non-null  object\n",
      " 1   EncodedPixels  331213 non-null  object\n",
      " 2   Height         331213 non-null  int64 \n",
      " 3   Width          331213 non-null  int64 \n",
      " 4   ClassId        331213 non-null  object\n",
      "dtypes: int64(2), object(3)\n",
      "memory usage: 12.6+ MB\n"
     ]
    }
   ],
   "source": [
    "df = pd.read_csv('/Users/narekgeghamyan/local_data/capstone_data/imaterialist-fashion-2019-FGVC6/train.csv')\n",
    "df.info()"
   ]
  },
  {
   "cell_type": "code",
   "execution_count": 5,
   "id": "407a36cc",
   "metadata": {},
   "outputs": [],
   "source": [
    "df_batch = df[:5000]"
   ]
  },
  {
   "cell_type": "code",
   "execution_count": 30,
   "id": "26be6bbb",
   "metadata": {},
   "outputs": [],
   "source": [
    "image_batch = ProcessData(df_batch, HEIGHT, WIDTH)\n",
    "(trn_image, seg_image, img_name_list) = image_batch.get_image_batch()"
   ]
  },
  {
   "cell_type": "code",
   "execution_count": 31,
   "id": "655f93f8",
   "metadata": {},
   "outputs": [
    {
     "data": {
      "text/plain": [
       "684"
      ]
     },
     "execution_count": 31,
     "metadata": {},
     "output_type": "execute_result"
    }
   ],
   "source": [
    "len(trn_image)"
   ]
  },
  {
   "cell_type": "code",
   "execution_count": 23,
   "id": "905f3fb8",
   "metadata": {},
   "outputs": [
    {
     "data": {
      "text/plain": [
       "list"
      ]
     },
     "execution_count": 23,
     "metadata": {},
     "output_type": "execute_result"
    }
   ],
   "source": [
    "type(trn_image)"
   ]
  },
  {
   "cell_type": "markdown",
   "id": "2c7079f3",
   "metadata": {},
   "source": [
    "### dump data via Pickle"
   ]
  },
  {
   "cell_type": "code",
   "execution_count": 32,
   "id": "900abce9",
   "metadata": {},
   "outputs": [],
   "source": [
    "os.chdir('/Users/narekgeghamyan/local_data/capstone_data/')"
   ]
  },
  {
   "cell_type": "code",
   "execution_count": 33,
   "id": "8f53f79b",
   "metadata": {},
   "outputs": [],
   "source": [
    "pickleFile = open('u2net_684_train_images.pkl', 'wb')\n",
    "pickle.dump(trn_image, pickleFile)"
   ]
  },
  {
   "cell_type": "code",
   "execution_count": 34,
   "id": "a97bf65d",
   "metadata": {},
   "outputs": [],
   "source": [
    "pickleFile = open('u2net_684_seg_images.pkl', 'wb')\n",
    "pickle.dump(seg_image, pickleFile)"
   ]
  },
  {
   "cell_type": "code",
   "execution_count": 35,
   "id": "54c8c527",
   "metadata": {},
   "outputs": [],
   "source": [
    "pickleFile = open('u2net_684_ing_name_list.pkl', 'wb')\n",
    "pickle.dump(img_name_list, pickleFile)"
   ]
  },
  {
   "cell_type": "code",
   "execution_count": 7,
   "id": "cdd338d1",
   "metadata": {},
   "outputs": [],
   "source": [
    "os.chdir('/Users/narekgeghamyan/local_data/capstone_data/imaterialist-fashion-2019-FGVC6/')\n",
    "df_batch.to_csv('train684.csv')"
   ]
  },
  {
   "cell_type": "code",
   "execution_count": null,
   "id": "71251bce",
   "metadata": {},
   "outputs": [],
   "source": []
  }
 ],
 "metadata": {
  "kernelspec": {
   "display_name": "pytorch-nightly",
   "language": "python",
   "name": "pytorch-nightly"
  },
  "language_info": {
   "codemirror_mode": {
    "name": "ipython",
    "version": 3
   },
   "file_extension": ".py",
   "mimetype": "text/x-python",
   "name": "python",
   "nbconvert_exporter": "python",
   "pygments_lexer": "ipython3",
   "version": "3.8.12"
  }
 },
 "nbformat": 4,
 "nbformat_minor": 5
}
