{
 "cells": [
  {
   "cell_type": "code",
   "execution_count": 8,
   "id": "4e98f135",
   "metadata": {},
   "outputs": [],
   "source": [
    "import requests\n",
    "from PIL import Image\n",
    "import os "
   ]
  },
  {
   "cell_type": "code",
   "execution_count": 7,
   "id": "9203b391",
   "metadata": {},
   "outputs": [],
   "source": [
    "os.chdir(\"/Users/narekgeghamyan/Classes/MLE_bootcamp/Capstone_Project/Production/Deployment/Image\")"
   ]
  },
  {
   "cell_type": "code",
   "execution_count": 11,
   "id": "87008ae0",
   "metadata": {},
   "outputs": [],
   "source": [
    "url = \"http://18.144.74.125/scorefile/\""
   ]
  },
  {
   "cell_type": "code",
   "execution_count": 12,
   "id": "d63cb447",
   "metadata": {},
   "outputs": [],
   "source": [
    "# image = Image.open(\"test_image_2.jpg\")"
   ]
  },
  {
   "cell_type": "code",
   "execution_count": 29,
   "id": "490eeb1c",
   "metadata": {},
   "outputs": [
    {
     "name": "stderr",
     "output_type": "stream",
     "text": [
      "  % Total    % Received % Xferd  Average Speed   Time    Time     Time  Current\n",
      "                                 Dload  Upload   Total   Spent    Left  Speed\n",
      "100  156k  100   660  100  155k    254  61428  0:00:02  0:00:02 --:--:-- 61916\n"
     ]
    },
    {
     "data": {
      "text/plain": [
       "0"
      ]
     },
     "execution_count": 29,
     "metadata": {},
     "output_type": "execute_result"
    }
   ],
   "source": [
    "command = \"curl -X 'POST' \\\n",
    "  'http://18.144.74.125/scorefile/' \\\n",
    "  -H 'accept: application/json' \\\n",
    "  -H 'Content-Type: multipart/form-data' \\\n",
    "  -F 'file=@00a1940434d687a785be0acf2b0fbff3.jpg;type=image/jpeg' -o 'segmented.jpg'\"\n",
    "\n",
    "os.system(command)"
   ]
  },
  {
   "cell_type": "code",
   "execution_count": 31,
   "id": "8a031af5",
   "metadata": {},
   "outputs": [
    {
     "data": {
      "image/png": "[encoded data removed]",
      "text/plain": [
       "<PIL.PngImagePlugin.PngImageFile image mode=P size=266x400 at 0x7FF6F6B32750>"
      ]
     },
     "execution_count": 31,
     "metadata": {},
     "output_type": "execute_result"
    }
   ],
   "source": [
    "Image.open(\"segmented.jpg\")"
   ]
  },
  {
   "cell_type": "code",
   "execution_count": null,
   "id": "277a21bf",
   "metadata": {},
   "outputs": [],
   "source": []
  },
  {
   "cell_type": "code",
   "execution_count": null,
   "id": "e3e094b2",
   "metadata": {},
   "outputs": [],
   "source": []
  }
 ],
 "metadata": {
  "kernelspec": {
   "display_name": "pytorch",
   "language": "python",
   "name": "pytorch"
  },
  "language_info": {
   "codemirror_mode": {
    "name": "ipython",
    "version": 3
   },
   "file_extension": ".py",
   "mimetype": "text/x-python",
   "name": "python",
   "nbconvert_exporter": "python",
   "pygments_lexer": "ipython3",
   "version": "3.7.11"
  }
 },
 "nbformat": 4,
 "nbformat_minor": 5
}
